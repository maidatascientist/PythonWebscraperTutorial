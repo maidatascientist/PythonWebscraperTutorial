{
 "nbformat": 4,
 "nbformat_minor": 2,
 "metadata": {
  "language_info": {
   "name": "python",
   "codemirror_mode": {
    "name": "ipython",
    "version": 3
   },
   "version": "3.7.3"
  },
  "orig_nbformat": 2,
  "file_extension": ".py",
  "mimetype": "text/x-python",
  "name": "python",
  "npconvert_exporter": "python",
  "pygments_lexer": "ipython3",
  "version": 3
 },
 "cells": [
  {
   "cell_type": "code",
   "execution_count": 1,
   "metadata": {},
   "outputs": [],
   "source": [
    "from bs4 import BeautifulSoup\n",
    "import requests\n",
    "\n"
   ]
  },
  {
   "cell_type": "code",
   "execution_count": 2,
   "metadata": {},
   "outputs": [],
   "source": [
    "page = requests.get(\"https://forecast.weather.gov/MapClick.php?lat=39.74&lon=-104.992\")\n",
    "soup = BeautifulSoup(page.content, 'html.parser')"
   ]
  },
  {
   "cell_type": "code",
   "execution_count": 3,
   "metadata": {},
   "outputs": [
    {
     "name": "stdout",
     "output_type": "stream",
     "text": "<div class=\"tombstone-container\">\n <p class=\"period-name\">\n  Tonight\n  <br/>\n  <br/>\n </p>\n <p>\n  <img alt=\"Tonight: Partly cloudy, with a low around 39. South southwest wind 3 to 5 mph. \" class=\"forecast-icon\" src=\"newimages/medium/nsct.png\" title=\"Tonight: Partly cloudy, with a low around 39. South southwest wind 3 to 5 mph. \"/>\n </p>\n <p class=\"short-desc\">\n  Partly Cloudy\n </p>\n <p class=\"temp temp-low\">\n  Low: 39 °F\n </p>\n</div>\n"
    }
   ],
   "source": [
    "seven_day = soup.find(id=\"seven-day-forecast\")\n",
    "forecast_items = seven_day.find_all(class_=\"tombstone-container\")\n",
    "tonight = forecast_items[0]\n",
    "print(tonight.prettify())"
   ]
  },
  {
   "cell_type": "code",
   "execution_count": 4,
   "metadata": {},
   "outputs": [
    {
     "name": "stdout",
     "output_type": "stream",
     "text": "Tonight\nPartly Cloudy\nLow: 39 °F\n"
    }
   ],
   "source": [
    "period = tonight.find(class_=\"period-name\").get_text()\n",
    "short_desc = tonight.find(class_=\"short-desc\").get_text()\n",
    "temp = tonight.find(class_=\"temp\").get_text()\n",
    "print(period)\n",
    "print(short_desc)\n",
    "print(temp)"
   ]
  },
  {
   "cell_type": "code",
   "execution_count": 5,
   "metadata": {},
   "outputs": [
    {
     "name": "stdout",
     "output_type": "stream",
     "text": "Tonight: Partly cloudy, with a low around 39. South southwest wind 3 to 5 mph. \n"
    }
   ],
   "source": [
    "img = tonight.find(\"img\")\n",
    "desc = img['title']\n",
    "print(desc)"
   ]
  },
  {
   "cell_type": "code",
   "execution_count": 6,
   "metadata": {},
   "outputs": [
    {
     "data": {
      "text/plain": "['Tonight',\n 'Tuesday',\n 'TuesdayNight',\n 'Wednesday',\n 'WednesdayNight',\n 'Thursday',\n 'ThursdayNight',\n 'Friday',\n 'FridayNight']"
     },
     "execution_count": 6,
     "metadata": {},
     "output_type": "execute_result"
    }
   ],
   "source": [
    "period_tags = seven_day.select(\".tombstone-container .period-name\")\n",
    "periods = [pt.get_text() for pt in period_tags]\n",
    "periods"
   ]
  },
  {
   "cell_type": "code",
   "execution_count": 9,
   "metadata": {},
   "outputs": [
    {
     "name": "stdout",
     "output_type": "stream",
     "text": "['Partly Cloudy', 'Mostly Sunny', 'Mostly Cloudy', 'Rain Likely', 'Snow Likelythen ChanceSnow', 'Chance Snow', 'Chance Snow', 'Mostly Sunny', 'Partly Cloudy']\n['Low: 39 °F', 'High: 71 °F', 'Low: 39 °F', 'High: 51 °F', 'Low: 26 °F', 'High: 37 °F', 'Low: 23 °F', 'High: 48 °F', 'Low: 26 °F']\n['Tonight: Partly cloudy, with a low around 39. South southwest wind 3 to 5 mph. ', 'Tuesday: Mostly sunny, with a high near 71. Light and variable wind becoming south southwest around 5 mph. ', 'Tuesday Night: Mostly cloudy, with a low around 39. Calm wind becoming west southwest around 5 mph after midnight. ', 'Wednesday: Rain likely, mainly after 11am.  Cloudy, with a high near 51. Calm wind becoming north 5 to 8 mph in the morning. Winds could gust as high as 15 mph.  Chance of precipitation is 70%.', 'Wednesday Night: Snow likely, mainly before 11pm.  Cloudy, with a low around 26. North wind 5 to 7 mph becoming calm  in the evening.  Chance of precipitation is 70%.', 'Thursday: A 50 percent chance of snow.  Cloudy, with a high near 37.', 'Thursday Night: A 30 percent chance of snow, mainly before 11pm.  Mostly cloudy, with a low around 23.', 'Friday: Mostly sunny, with a high near 48.', 'Friday Night: Partly cloudy, with a low around 26.']\n"
    }
   ],
   "source": [
    "short_descs = [sd.get_text() for sd in seven_day.select(\".tombstone-container .short-desc\")]\n",
    "temps = [t.get_text() for t in seven_day.select(\".tombstone-container .temp\")]\n",
    "descs = [d[\"title\"] for d in seven_day.select(\".tombstone-container img\")]\n",
    "print(short_descs)\n",
    "print(temps)\n",
    "print(descs)"
   ]
  },
  {
   "cell_type": "code",
   "execution_count": 10,
   "metadata": {},
   "outputs": [
    {
     "data": {
      "text/html": "<div>\n<style scoped>\n    .dataframe tbody tr th:only-of-type {\n        vertical-align: middle;\n    }\n\n    .dataframe tbody tr th {\n        vertical-align: top;\n    }\n\n    .dataframe thead th {\n        text-align: right;\n    }\n</style>\n<table border=\"1\" class=\"dataframe\">\n  <thead>\n    <tr style=\"text-align: right;\">\n      <th></th>\n      <th>period</th>\n      <th>short_desc</th>\n      <th>temp</th>\n      <th>desc</th>\n    </tr>\n  </thead>\n  <tbody>\n    <tr>\n      <th>0</th>\n      <td>Tonight</td>\n      <td>Partly Cloudy</td>\n      <td>Low: 39 °F</td>\n      <td>Tonight: Partly cloudy, with a low around 39. ...</td>\n    </tr>\n    <tr>\n      <th>1</th>\n      <td>Tuesday</td>\n      <td>Mostly Sunny</td>\n      <td>High: 71 °F</td>\n      <td>Tuesday: Mostly sunny, with a high near 71. Li...</td>\n    </tr>\n    <tr>\n      <th>2</th>\n      <td>TuesdayNight</td>\n      <td>Mostly Cloudy</td>\n      <td>Low: 39 °F</td>\n      <td>Tuesday Night: Mostly cloudy, with a low aroun...</td>\n    </tr>\n    <tr>\n      <th>3</th>\n      <td>Wednesday</td>\n      <td>Rain Likely</td>\n      <td>High: 51 °F</td>\n      <td>Wednesday: Rain likely, mainly after 11am.  Cl...</td>\n    </tr>\n    <tr>\n      <th>4</th>\n      <td>WednesdayNight</td>\n      <td>Snow Likelythen ChanceSnow</td>\n      <td>Low: 26 °F</td>\n      <td>Wednesday Night: Snow likely, mainly before 11...</td>\n    </tr>\n    <tr>\n      <th>5</th>\n      <td>Thursday</td>\n      <td>Chance Snow</td>\n      <td>High: 37 °F</td>\n      <td>Thursday: A 50 percent chance of snow.  Cloudy...</td>\n    </tr>\n    <tr>\n      <th>6</th>\n      <td>ThursdayNight</td>\n      <td>Chance Snow</td>\n      <td>Low: 23 °F</td>\n      <td>Thursday Night: A 30 percent chance of snow, m...</td>\n    </tr>\n    <tr>\n      <th>7</th>\n      <td>Friday</td>\n      <td>Mostly Sunny</td>\n      <td>High: 48 °F</td>\n      <td>Friday: Mostly sunny, with a high near 48.</td>\n    </tr>\n    <tr>\n      <th>8</th>\n      <td>FridayNight</td>\n      <td>Partly Cloudy</td>\n      <td>Low: 26 °F</td>\n      <td>Friday Night: Partly cloudy, with a low around...</td>\n    </tr>\n  </tbody>\n</table>\n</div>",
      "text/plain": "           period                  short_desc         temp  \\\n0         Tonight               Partly Cloudy   Low: 39 °F   \n1         Tuesday                Mostly Sunny  High: 71 °F   \n2    TuesdayNight               Mostly Cloudy   Low: 39 °F   \n3       Wednesday                 Rain Likely  High: 51 °F   \n4  WednesdayNight  Snow Likelythen ChanceSnow   Low: 26 °F   \n5        Thursday                 Chance Snow  High: 37 °F   \n6   ThursdayNight                 Chance Snow   Low: 23 °F   \n7          Friday                Mostly Sunny  High: 48 °F   \n8     FridayNight               Partly Cloudy   Low: 26 °F   \n\n                                                desc  \n0  Tonight: Partly cloudy, with a low around 39. ...  \n1  Tuesday: Mostly sunny, with a high near 71. Li...  \n2  Tuesday Night: Mostly cloudy, with a low aroun...  \n3  Wednesday: Rain likely, mainly after 11am.  Cl...  \n4  Wednesday Night: Snow likely, mainly before 11...  \n5  Thursday: A 50 percent chance of snow.  Cloudy...  \n6  Thursday Night: A 30 percent chance of snow, m...  \n7         Friday: Mostly sunny, with a high near 48.  \n8  Friday Night: Partly cloudy, with a low around...  "
     },
     "execution_count": 10,
     "metadata": {},
     "output_type": "execute_result"
    }
   ],
   "source": [
    "import pandas as pd\n",
    "weather = pd.DataFrame({\n",
    "    \"period\": periods,\n",
    "    \"short_desc\": short_descs,\n",
    "    \"temp\": temps,\n",
    "    \"desc\":descs\n",
    "})\n",
    "weather"
   ]
  },
  {
   "cell_type": "code",
   "execution_count": 11,
   "metadata": {},
   "outputs": [
    {
     "data": {
      "text/plain": "0    39\n1    71\n2    39\n3    51\n4    26\n5    37\n6    23\n7    48\n8    26\nName: temp_num, dtype: object"
     },
     "execution_count": 11,
     "metadata": {},
     "output_type": "execute_result"
    }
   ],
   "source": [
    "temp_nums = weather[\"temp\"].str.extract(\"(?P<temp_num>\\d+)\", expand=False)\n",
    "weather[\"temp_num\"] = temp_nums.astype('int')\n",
    "temp_nums"
   ]
  },
  {
   "cell_type": "code",
   "execution_count": 12,
   "metadata": {},
   "outputs": [
    {
     "data": {
      "text/plain": "40.0"
     },
     "execution_count": 12,
     "metadata": {},
     "output_type": "execute_result"
    }
   ],
   "source": [
    "weather[\"temp_num\"].mean()"
   ]
  },
  {
   "cell_type": "code",
   "execution_count": 13,
   "metadata": {},
   "outputs": [
    {
     "data": {
      "text/plain": "0     True\n1    False\n2     True\n3    False\n4     True\n5    False\n6     True\n7    False\n8     True\nName: temp, dtype: bool"
     },
     "execution_count": 13,
     "metadata": {},
     "output_type": "execute_result"
    }
   ],
   "source": [
    "is_night = weather[\"temp\"].str.contains(\"Low\")\n",
    "weather[\"is_night\"] = is_night\n",
    "is_night"
   ]
  },
  {
   "cell_type": "code",
   "execution_count": 14,
   "metadata": {},
   "outputs": [
    {
     "data": {
      "text/html": "<div>\n<style scoped>\n    .dataframe tbody tr th:only-of-type {\n        vertical-align: middle;\n    }\n\n    .dataframe tbody tr th {\n        vertical-align: top;\n    }\n\n    .dataframe thead th {\n        text-align: right;\n    }\n</style>\n<table border=\"1\" class=\"dataframe\">\n  <thead>\n    <tr style=\"text-align: right;\">\n      <th></th>\n      <th>period</th>\n      <th>short_desc</th>\n      <th>temp</th>\n      <th>desc</th>\n      <th>temp_num</th>\n      <th>is_night</th>\n    </tr>\n  </thead>\n  <tbody>\n    <tr>\n      <th>0</th>\n      <td>Tonight</td>\n      <td>Partly Cloudy</td>\n      <td>Low: 39 °F</td>\n      <td>Tonight: Partly cloudy, with a low around 39. ...</td>\n      <td>39</td>\n      <td>True</td>\n    </tr>\n    <tr>\n      <th>2</th>\n      <td>TuesdayNight</td>\n      <td>Mostly Cloudy</td>\n      <td>Low: 39 °F</td>\n      <td>Tuesday Night: Mostly cloudy, with a low aroun...</td>\n      <td>39</td>\n      <td>True</td>\n    </tr>\n    <tr>\n      <th>4</th>\n      <td>WednesdayNight</td>\n      <td>Snow Likelythen ChanceSnow</td>\n      <td>Low: 26 °F</td>\n      <td>Wednesday Night: Snow likely, mainly before 11...</td>\n      <td>26</td>\n      <td>True</td>\n    </tr>\n    <tr>\n      <th>6</th>\n      <td>ThursdayNight</td>\n      <td>Chance Snow</td>\n      <td>Low: 23 °F</td>\n      <td>Thursday Night: A 30 percent chance of snow, m...</td>\n      <td>23</td>\n      <td>True</td>\n    </tr>\n    <tr>\n      <th>8</th>\n      <td>FridayNight</td>\n      <td>Partly Cloudy</td>\n      <td>Low: 26 °F</td>\n      <td>Friday Night: Partly cloudy, with a low around...</td>\n      <td>26</td>\n      <td>True</td>\n    </tr>\n  </tbody>\n</table>\n</div>",
      "text/plain": "           period                  short_desc        temp  \\\n0         Tonight               Partly Cloudy  Low: 39 °F   \n2    TuesdayNight               Mostly Cloudy  Low: 39 °F   \n4  WednesdayNight  Snow Likelythen ChanceSnow  Low: 26 °F   \n6   ThursdayNight                 Chance Snow  Low: 23 °F   \n8     FridayNight               Partly Cloudy  Low: 26 °F   \n\n                                                desc  temp_num  is_night  \n0  Tonight: Partly cloudy, with a low around 39. ...        39      True  \n2  Tuesday Night: Mostly cloudy, with a low aroun...        39      True  \n4  Wednesday Night: Snow likely, mainly before 11...        26      True  \n6  Thursday Night: A 30 percent chance of snow, m...        23      True  \n8  Friday Night: Partly cloudy, with a low around...        26      True  "
     },
     "execution_count": 14,
     "metadata": {},
     "output_type": "execute_result"
    }
   ],
   "source": [
    "weather[is_night]"
   ]
  },
  {
   "cell_type": "code",
   "execution_count": null,
   "metadata": {},
   "outputs": [],
   "source": []
  }
 ]
}