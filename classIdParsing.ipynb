{
 "nbformat": 4,
 "nbformat_minor": 2,
 "metadata": {
  "language_info": {
   "name": "python",
   "codemirror_mode": {
    "name": "ipython",
    "version": 3
   },
   "version": "3.7.3"
  },
  "orig_nbformat": 2,
  "file_extension": ".py",
  "mimetype": "text/x-python",
  "name": "python",
  "npconvert_exporter": "python",
  "pygments_lexer": "ipython3",
  "version": 3
 },
 "cells": [
  {
   "cell_type": "code",
   "execution_count": 11,
   "metadata": {},
   "outputs": [],
   "source": [
    "import requests\n",
    "from bs4 import BeautifulSoup\n",
    "page = requests.get(\"http://dataquestio.github.io/web-scraping-pages/ids_and_classes.html\")\n",
    "soup = BeautifulSoup(page.content, 'html.parser')\n",
    "\n"
   ]
  },
  {
   "cell_type": "code",
   "execution_count": 13,
   "metadata": {},
   "outputs": [
    {
     "name": "stdout",
     "output_type": "stream",
     "text": "<html>\n <head>\n  <title>\n   A simple example page\n  </title>\n </head>\n <body>\n  <div>\n   <p class=\"inner-text first-item\" id=\"first\">\n    First paragraph.\n   </p>\n   <p class=\"inner-text\">\n    Second paragraph.\n   </p>\n  </div>\n  <p class=\"outer-text first-item\" id=\"second\">\n   <b>\n    First outer paragraph.\n   </b>\n  </p>\n  <p class=\"outer-text\">\n   <b>\n    Second outer paragraph.\n   </b>\n  </p>\n </body>\n</html>\n"
    }
   ],
   "source": [
    "print(soup.prettify())"
   ]
  },
  {
   "cell_type": "code",
   "execution_count": 12,
   "metadata": {},
   "outputs": [
    {
     "data": {
      "text/plain": "[<p class=\"outer-text first-item\" id=\"second\">\n <b>\n                 First outer paragraph.\n             </b>\n </p>, <p class=\"outer-text\">\n <b>\n                 Second outer paragraph.\n             </b>\n </p>]"
     },
     "execution_count": 12,
     "metadata": {},
     "output_type": "execute_result"
    }
   ],
   "source": [
    "soup.find_all('p', class_='outer-text')"
   ]
  },
  {
   "cell_type": "code",
   "execution_count": 14,
   "metadata": {},
   "outputs": [
    {
     "data": {
      "text/plain": "[<p class=\"outer-text first-item\" id=\"second\">\n <b>\n                 First outer paragraph.\n             </b>\n </p>, <p class=\"outer-text\">\n <b>\n                 Second outer paragraph.\n             </b>\n </p>]"
     },
     "execution_count": 14,
     "metadata": {},
     "output_type": "execute_result"
    }
   ],
   "source": [
    "soup.find_all(class_=\"outer-text\")"
   ]
  },
  {
   "cell_type": "code",
   "execution_count": 15,
   "metadata": {},
   "outputs": [
    {
     "data": {
      "text/plain": "[<p class=\"inner-text first-item\" id=\"first\">\n                 First paragraph.\n             </p>]"
     },
     "execution_count": 15,
     "metadata": {},
     "output_type": "execute_result"
    }
   ],
   "source": [
    "soup.find_all(id=\"first\")"
   ]
  },
  {
   "cell_type": "code",
   "execution_count": 16,
   "metadata": {},
   "outputs": [
    {
     "data": {
      "text/plain": "[<p class=\"inner-text first-item\" id=\"first\">\n                 First paragraph.\n             </p>, <p class=\"inner-text\">\n                 Second paragraph.\n             </p>]"
     },
     "execution_count": 16,
     "metadata": {},
     "output_type": "execute_result"
    }
   ],
   "source": [
    "soup.select(\"div p\")"
   ]
  },
  {
   "cell_type": "code",
   "execution_count": null,
   "metadata": {},
   "outputs": [],
   "source": []
  }
 ]
}